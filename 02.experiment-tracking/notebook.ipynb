{
 "cells": [
  {
   "cell_type": "code",
   "execution_count": 5,
   "metadata": {},
   "outputs": [
    {
     "name": "stdout",
     "output_type": "stream",
     "text": [
      "Usage: preprocess_data.py [OPTIONS]\n",
      "\n",
      "Options:\n",
      "  --raw_data_path TEXT  Location where the raw NYC taxi trip data was saved\n",
      "  --dest_path TEXT      Location where the resulting files will be saved\n",
      "  --help                Show this message and exit.\n"
     ]
    }
   ],
   "source": [
    "!python preprocess_data.py --help"
   ]
  },
  {
   "cell_type": "code",
   "execution_count": 7,
   "metadata": {},
   "outputs": [],
   "source": [
    "!mkdir processed_data/"
   ]
  },
  {
   "cell_type": "code",
   "execution_count": 8,
   "metadata": {},
   "outputs": [],
   "source": [
    "!python preprocess_data.py --raw_data_path ../data/ --dest_path processed_data/"
   ]
  },
  {
   "cell_type": "code",
   "execution_count": 9,
   "metadata": {},
   "outputs": [
    {
     "name": "stdout",
     "output_type": "stream",
     "text": [
      "Usage: train.py [OPTIONS]\n",
      "\n",
      "Options:\n",
      "  --data_path TEXT  Location where the processed NYC taxi trip data was saved\n",
      "  --help            Show this message and exit.\n"
     ]
    }
   ],
   "source": [
    "!python train.py --help"
   ]
  },
  {
   "cell_type": "code",
   "execution_count": 10,
   "metadata": {},
   "outputs": [],
   "source": [
    "import mlflow\n",
    "\n",
    "mlflow.set_tracking_uri(\"http://127.0.0.1:8080\")"
   ]
  },
  {
   "cell_type": "code",
   "execution_count": 13,
   "metadata": {},
   "outputs": [
    {
     "name": "stdout",
     "output_type": "stream",
     "text": [
      "2024/06/01 21:05:14 INFO mlflow.tracking.fluent: Autologging successfully enabled for sklearn.\n",
      "2024/06/01 21:05:14 INFO mlflow.utils.autologging_utils: Created MLflow autologging run with ID 'c3b73f8271d143bbb36a9e55c5ad4100', which will track hyperparameters, performance metrics, model artifacts, and lineage information for the current sklearn workflow\n",
      "2024/06/01 21:05:34 WARNING mlflow.utils.autologging_utils: MLflow autologging encountered a warning: \"/home/couzhei/.pyenv/versions/3.10.14/envs/mle/lib/python3.10/site-packages/_distutils_hack/__init__.py:33: UserWarning: Setuptools is replacing distutils.\"\n"
     ]
    }
   ],
   "source": [
    "!python train.py --data_path processed_data/"
   ]
  },
  {
   "cell_type": "code",
   "execution_count": 14,
   "metadata": {},
   "outputs": [
    {
     "name": "stdout",
     "output_type": "stream",
     "text": [
      "2024/06/01 21:56:29 INFO mlflow.tracking.fluent: Experiment with name 'random-forest-hyperopt' does not exist. Creating a new experiment.\n",
      "Usage: hpo.py [OPTIONS]\n",
      "\n",
      "Options:\n",
      "  --data_path TEXT      Location where the processed NYC taxi trip data was\n",
      "                        saved\n",
      "  --num_trials INTEGER  The number of parameter evaluations for the optimizer\n",
      "                        to explore\n",
      "  --help                Show this message and exit.\n"
     ]
    }
   ],
   "source": [
    "!python hpo.py --help"
   ]
  },
  {
   "cell_type": "code",
   "execution_count": 16,
   "metadata": {},
   "outputs": [
    {
     "name": "stdout",
     "output_type": "stream",
     "text": [
      "100%|██████████| 80/80 [10:40<00:00,  8.01s/trial, best loss: 5.314362499822815]\n"
     ]
    }
   ],
   "source": [
    "!python hpo.py --data_path processed_data/ --num_trials 80"
   ]
  },
  {
   "cell_type": "code",
   "execution_count": 17,
   "metadata": {},
   "outputs": [
    {
     "name": "stdout",
     "output_type": "stream",
     "text": [
      "2024/06/01 22:18:45 INFO mlflow.tracking.fluent: Experiment with name 'random-forest-best-models' does not exist. Creating a new experiment.\n",
      "Usage: register_model.py [OPTIONS]\n",
      "\n",
      "Options:\n",
      "  --data_path TEXT  Location where the processed NYC taxi trip data was saved\n",
      "  --top_n INTEGER   Number of top models that need to be evaluated to decide\n",
      "                    which one to promote\n",
      "  --help            Show this message and exit.\n"
     ]
    }
   ],
   "source": [
    "!python register_model.py --help"
   ]
  },
  {
   "cell_type": "code",
   "execution_count": 21,
   "metadata": {},
   "outputs": [],
   "source": [
    "\n",
    "!python register_model.py --data_path processed_data/ --top_n 5"
   ]
  },
  {
   "cell_type": "code",
   "execution_count": 30,
   "metadata": {},
   "outputs": [
    {
     "data": {
      "text/plain": [
       "30.780442361479178"
      ]
     },
     "execution_count": 30,
     "metadata": {},
     "output_type": "execute_result"
    }
   ],
   "source": [
    "import pickle, os, mlflow\n",
    "\n",
    "mlflow.set_tracking_uri(\"http://127.0.0.1:5000\")\n",
    "mlflow.sklearn.autolog()\n",
    "\n",
    "\n",
    "def load_pickle(filename):\n",
    "    with open(filename, \"rb\") as f_in:\n",
    "        return pickle.load(f_in)\n",
    "\n",
    "logged_model = 'runs:/f6408f5728d74b26b45b36206f8f1217/model'\n",
    "\n",
    "# Load model as a PyFuncModel.\n",
    "loaded_model = mlflow.pyfunc.load_model(logged_model)\n",
    "\n",
    "# Predict on a Pandas DataFrame.\n",
    "from sklearn.metrics import mean_squared_error\n",
    "\n",
    "X_test, y_test = load_pickle(os.path.join(\"processed_data/\", \"test.pkl\"))\n",
    "mean_squared_error(y_test, loaded_model.predict(X_test))"
   ]
  },
  {
   "cell_type": "code",
   "execution_count": null,
   "metadata": {},
   "outputs": [],
   "source": []
  }
 ],
 "metadata": {
  "kernelspec": {
   "display_name": "mle",
   "language": "python",
   "name": "python3"
  },
  "language_info": {
   "codemirror_mode": {
    "name": "ipython",
    "version": 3
   },
   "file_extension": ".py",
   "mimetype": "text/x-python",
   "name": "python",
   "nbconvert_exporter": "python",
   "pygments_lexer": "ipython3",
   "version": "3.10.14"
  }
 },
 "nbformat": 4,
 "nbformat_minor": 2
}
